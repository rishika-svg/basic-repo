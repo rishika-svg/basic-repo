{
 "cells": [
  {
   "cell_type": "code",
   "execution_count": 1,
   "id": "7c62d697",
   "metadata": {},
   "outputs": [
    {
     "name": "stdout",
     "output_type": "stream",
     "text": [
      "[2, 3, 5, 7, 11, 13, 17, 19, 23, 29, 31, 37, 41, 43, 47, 53, 59, 61, 67, 71, 73, 79, 83, 89, 97]\n"
     ]
    }
   ],
   "source": [
    "#1.  Write a program using list comprehension to find primes in range 2 to 100.\n",
    "\n",
    "\n",
    "prime_list = [x for x in range(2, 100) if all(x % y != 0 for y in range(2, x))]\n",
    "print(prime_list)"
   ]
  },
  {
   "cell_type": "code",
   "execution_count": 1,
   "id": "ea6bcced",
   "metadata": {},
   "outputs": [
    {
     "name": "stdout",
     "output_type": "stream",
     "text": [
      "Enter the string:ASWIN KUMAR\n",
      "RAMUK NIWSA\n"
     ]
    }
   ],
   "source": [
    "#2. Write a function to reverse a string.\n",
    "def rev_str():\n",
    "    string = input(\"Enter the string:\")\n",
    "    print(string[::-1])\n",
    "    \n",
    "rev_str()"
   ]
  },
  {
   "cell_type": "code",
   "execution_count": 3,
   "id": "6446ba37",
   "metadata": {},
   "outputs": [
    {
     "name": "stdout",
     "output_type": "stream",
     "text": [
      "['Monday', 'Sunday', 'Saturday']\n"
     ]
    }
   ],
   "source": [
    "#3. Write a program to extract the words from the given list which have their first character in uppercase.\n",
    "\n",
    "days = ['Monday', 'tuesday','friday', 'Sunday', 'Saturday']\n",
    "output = []\n",
    "\n",
    "for i in days:\n",
    "    if i == i.capitalize():\n",
    "        output.append(i)\n",
    "\n",
    "print(output)"
   ]
  },
  {
   "cell_type": "code",
   "execution_count": 4,
   "id": "6487090b",
   "metadata": {},
   "outputs": [
    {
     "name": "stdout",
     "output_type": "stream",
     "text": [
      "['1997', '2011', '1993', '2020']\n"
     ]
    }
   ],
   "source": [
    "#4 Write a program to extract the year part from the dates in the given list.\n",
    "\n",
    "batch = ['15-06-1997','15-06-2011','15-06-1993','15-06-2020']\n",
    "\n",
    "\n",
    "output4 = [ i.split(\"-\")[2] for i in batch ] \n",
    "\n",
    "print(output4)"
   ]
  },
  {
   "cell_type": "code",
   "execution_count": 5,
   "id": "addf2467",
   "metadata": {},
   "outputs": [
    {
     "name": "stdout",
     "output_type": "stream",
     "text": [
      "{1: 'Data Science', 2: 'Machine Learning', 3: 'SQL', 4: 'BigData'}\n"
     ]
    }
   ],
   "source": [
    "#5. Write a program swap the keys to values and values to keys of the given dictionary.\n",
    "\n",
    "dic = {'Data Science':1,'Machine Learning':2, 'SQL':3, 'BigData':4}\n",
    "\n",
    "output5 = {}\n",
    "\n",
    "for i in dic.items():\n",
    "    output5[i[1]] = i[0]\n",
    "\n",
    "print(output5)"
   ]
  },
  {
   "cell_type": "code",
   "execution_count": 6,
   "id": "ca0706d9",
   "metadata": {},
   "outputs": [
    {
     "name": "stdout",
     "output_type": "stream",
     "text": [
      "[5, 3.5, 2.6666666666666665, 3.0, 3.6]\n"
     ]
    }
   ],
   "source": [
    "#6. Write a program to calculate the cumulative average of the given list using accumulate() and lambda function.\n",
    "input_lst = [5,2,1,4,6]\n",
    "import itertools as it\n",
    "l=[]\n",
    "l = it.accumulate(list(enumerate(input_lst)), lambda x,y: (y[0], (x[1]*(x[0]+1) + y[1])/(y[0]+1)))\n",
    "output_6 = list(map(lambda x: x[1], l))\n",
    "print(output_6)"
   ]
  },
  {
   "cell_type": "code",
   "execution_count": 2,
   "id": "60aef777",
   "metadata": {},
   "outputs": [
    {
     "name": "stdout",
     "output_type": "stream",
     "text": [
      " Enter the String:ASWINKUMAR\n",
      "Count of the string length  10\n"
     ]
    }
   ],
   "source": [
    "#7. Write a program to count the number of elements in the string (given by the user) that are not present in the \n",
    "# 'my_string'. Do not count the white spaces.\n",
    "\n",
    "# Use Recursion\n",
    "# my_string = 'Data Science'\n",
    "my_string = input(\" Enter the String:\")\n",
    "count = 0\n",
    "for i in my_string:\n",
    "    if i != \" \":\n",
    "        count += 1\n",
    "        \n",
    "print(\"Count of the string length \",count)"
   ]
  },
  {
   "cell_type": "code",
   "execution_count": null,
   "id": "c3f7cfcf",
   "metadata": {},
   "outputs": [
    {
     "name": "stdout",
     "output_type": "stream",
     "text": [
      "enter a number: 100000\n",
      "The Number is Out of Range \n",
      "Try again\n"
     ]
    }
   ],
   "source": [
    "#8 Define a function to check whether a number is in a range (1000,10000) or not.\n",
    "def chk_num():\n",
    "    while True:\n",
    "        n = int(input(\"enter a number: \"))\n",
    "        if 1000 <= n <= 10000:\n",
    "            print(\"The number is between 1000 to 10000\")\n",
    "            break\n",
    "        print('The Number is Out of Range ')\n",
    "        print(\"Try again\")\n",
    "chk_num()\n"
   ]
  },
  {
   "cell_type": "code",
   "execution_count": 3,
   "id": "fca9d594",
   "metadata": {},
   "outputs": [
    {
     "name": "stdout",
     "output_type": "stream",
     "text": [
      "                     1 \n",
      "5 \n",
      "10 \n",
      "10 \n",
      "5 \n",
      "1 \n"
     ]
    }
   ],
   "source": [
    "#9 Write a program to print pascal triangle upto 6 steps (using list).\n",
    "\n",
    "def solve(n):\n",
    "    for i in range(n+1):\n",
    "        for j in range(n-i):\n",
    "            print(' ', end='')\n",
    "\n",
    "    C = 1\n",
    "    for j in range(1, i+1):\n",
    "        print(C, ' ', sep='', end='')\n",
    "        C = C * (i - j) // j\n",
    "        print()\n",
    "\n",
    "\n",
    "solve(6)"
   ]
  },
  {
   "cell_type": "code",
   "execution_count": 4,
   "id": "498f776d",
   "metadata": {},
   "outputs": [
    {
     "name": "stdout",
     "output_type": "stream",
     "text": [
      "104\n"
     ]
    }
   ],
   "source": [
    "#10 Write a program to calculate the sum of all elements in the list.\n",
    "test_score = [10, 32, 23, 14, 25]\n",
    "sum_of_lst = 0\n",
    "\n",
    "for i in test_score:\n",
    "    sum_of_lst += i\n",
    "print(sum_of_lst)"
   ]
  },
  {
   "cell_type": "code",
   "execution_count": 5,
   "id": "6950018c",
   "metadata": {},
   "outputs": [
    {
     "name": "stdout",
     "output_type": "stream",
     "text": [
      "Minimum of  [210 402 383] == 210\n",
      "Minimum of  [140 375 106] == 106\n",
      "Minimum of  [140 125 217] == 125\n",
      "Minimum of  [292 240 295] == 240\n"
     ]
    }
   ],
   "source": [
    "#11 Find the minimum value along each of the rows.\n",
    "# Create a 2D Numpy array from list of lists\n",
    "\n",
    "import numpy as np\n",
    "score = np.array([[210, 402, 383],\n",
    "        [140, 375, 106],\n",
    "        [140, 125, 217],\n",
    "        [292, 240, 295]])\n",
    "for i in score:\n",
    "    print(\"Minimum of \",i,'==',min(i))\n"
   ]
  },
  {
   "cell_type": "code",
   "execution_count": 6,
   "id": "7b2679d4",
   "metadata": {},
   "outputs": [
    {
     "name": "stdout",
     "output_type": "stream",
     "text": [
      "[-1 21 -1 13 -1 45 -1 -1 -1 -1 65 -1 -1]\n"
     ]
    }
   ],
   "source": [
    "#12. Replace all even numbers in the array with -1.\n",
    "# Use the array given below\n",
    "num_array = np.array([0, 21, 32, 13, 44, 45,26, 28, 38, 34, 65, 48, 76])\n",
    "\n",
    "repl_arr = np.where((num_array % 2 == 0),-1,num_array)\n",
    "print(repl_arr)"
   ]
  },
  {
   "cell_type": "code",
   "execution_count": null,
   "id": "129478c2",
   "metadata": {},
   "outputs": [],
   "source": []
  },
  {
   "cell_type": "code",
   "execution_count": null,
   "id": "bae7b863",
   "metadata": {},
   "outputs": [],
   "source": []
  }
 ],
 "metadata": {
  "kernelspec": {
   "display_name": "Python 3 (ipykernel)",
   "language": "python",
   "name": "python3"
  },
  "language_info": {
   "codemirror_mode": {
    "name": "ipython",
    "version": 3
   },
   "file_extension": ".py",
   "mimetype": "text/x-python",
   "name": "python",
   "nbconvert_exporter": "python",
   "pygments_lexer": "ipython3",
   "version": "3.9.12"
  }
 },
 "nbformat": 4,
 "nbformat_minor": 5
}
